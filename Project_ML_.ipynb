{
  "nbformat": 4,
  "nbformat_minor": 0,
  "metadata": {
    "colab": {
      "provenance": [],
      "authorship_tag": "ABX9TyP0O932jRF6ipoXrElZplQP",
      "include_colab_link": true
    },
    "kernelspec": {
      "name": "python3",
      "display_name": "Python 3"
    },
    "language_info": {
      "name": "python"
    }
  },
  "cells": [
    {
      "cell_type": "markdown",
      "metadata": {
        "id": "view-in-github",
        "colab_type": "text"
      },
      "source": [
        "<a href=\"https://colab.research.google.com/github/NIlesh-Thamke/Machine-Learning-Practicals/blob/main/Project_ML_.ipynb\" target=\"_parent\"><img src=\"https://colab.research.google.com/assets/colab-badge.svg\" alt=\"Open In Colab\"/></a>"
      ]
    },
    {
      "cell_type": "code",
      "execution_count": 1,
      "metadata": {
        "id": "8YAW5UsFGzcC"
      },
      "outputs": [],
      "source": [
        "import pandas as pd\n",
        "from sklearn.model_selection import train_test_split\n",
        "from sklearn.ensemble import RandomForestClassifier\n",
        "from sklearn.preprocessing import LabelEncoder\n",
        "from sklearn.metrics import classification_report, accuracy_score"
      ]
    },
    {
      "cell_type": "code",
      "source": [
        "df = pd.read_csv('/content/ai_ml_cybersecurity_dataset1.csv')\n",
        "print(df.head())"
      ],
      "metadata": {
        "colab": {
          "base_uri": "https://localhost:8080/"
        },
        "id": "xO80EBzGHYDC",
        "outputId": "a7d0d499-ce48-490c-bad7-7c43630d1f72"
      },
      "execution_count": 2,
      "outputs": [
        {
          "output_type": "stream",
          "name": "stdout",
          "text": [
            "                               Event ID         Timestamp       Source IP  \\\n",
            "0  2019969e-ecfa-41c4-b681-9b684bc3b3bf  07-02-2020 23:46   219.80.193.15   \n",
            "1  1668e954-781f-4731-94dc-24218b983ba1  25-05-2021 19:03  110.155.68.245   \n",
            "2  0ef24a20-1d25-41fa-81b8-e19fb63e9e4c  04-01-2022 09:08  171.153.115.83   \n",
            "3  073b6225-0998-488c-aa1c-23e49814b6ff  12-10-2022 19:48   29.49.228.195   \n",
            "4  783fd153-6b88-44c1-8db5-d882300088cc  24-11-2021 02:04    120.43.64.52   \n",
            "\n",
            "   Destination IP                                         User Agent  \\\n",
            "0    44.155.75.24  Mozilla/5.0 (Macintosh; PPC Mac OS X 10_7_8 rv...   \n",
            "1  178.123.150.38  Mozilla/5.0 (Windows 95) AppleWebKit/534.2 (KH...   \n",
            "2  76.187.142.133  Mozilla/5.0 (X11; Linux x86_64; rv:1.9.7.20) G...   \n",
            "3     89.39.7.177  Mozilla/5.0 (Linux; Android 7.1.1) AppleWebKit...   \n",
            "4   113.82.34.164  Mozilla/5.0 (iPad; CPU iPad OS 9_3_6 like Mac ...   \n",
            "\n",
            "  Attack Type Attack Severity  Data Exfiltrated  \\\n",
            "0  Ransomware        Critical             False   \n",
            "1     Malware        Critical              True   \n",
            "2  Ransomware            High             False   \n",
            "3        DDoS        Critical             False   \n",
            "4     Malware          Medium             False   \n",
            "\n",
            "                         Threat Intelligence Response Action  \n",
            "0  Crime low this behind option tax product.      Eradicated  \n",
            "1            Responsibility work way effect.      Eradicated  \n",
            "2      Artist though type imagine food push.      Eradicated  \n",
            "3         In still military despite TV look.       Contained  \n",
            "4  Push always least police it range either.      Eradicated  \n"
          ]
        }
      ]
    },
    {
      "cell_type": "code",
      "source": [
        "df.isnull().sum()"
      ],
      "metadata": {
        "colab": {
          "base_uri": "https://localhost:8080/",
          "height": 398
        },
        "id": "SORCg-pGIiLN",
        "outputId": "59b1fdca-6284-4f3d-ee20-4ee1eb234098"
      },
      "execution_count": 3,
      "outputs": [
        {
          "output_type": "execute_result",
          "data": {
            "text/plain": [
              "Event ID               0\n",
              "Timestamp              0\n",
              "Source IP              0\n",
              "Destination IP         0\n",
              "User Agent             0\n",
              "Attack Type            0\n",
              "Attack Severity        0\n",
              "Data Exfiltrated       0\n",
              "Threat Intelligence    0\n",
              "Response Action        0\n",
              "dtype: int64"
            ],
            "text/html": [
              "<div>\n",
              "<style scoped>\n",
              "    .dataframe tbody tr th:only-of-type {\n",
              "        vertical-align: middle;\n",
              "    }\n",
              "\n",
              "    .dataframe tbody tr th {\n",
              "        vertical-align: top;\n",
              "    }\n",
              "\n",
              "    .dataframe thead th {\n",
              "        text-align: right;\n",
              "    }\n",
              "</style>\n",
              "<table border=\"1\" class=\"dataframe\">\n",
              "  <thead>\n",
              "    <tr style=\"text-align: right;\">\n",
              "      <th></th>\n",
              "      <th>0</th>\n",
              "    </tr>\n",
              "  </thead>\n",
              "  <tbody>\n",
              "    <tr>\n",
              "      <th>Event ID</th>\n",
              "      <td>0</td>\n",
              "    </tr>\n",
              "    <tr>\n",
              "      <th>Timestamp</th>\n",
              "      <td>0</td>\n",
              "    </tr>\n",
              "    <tr>\n",
              "      <th>Source IP</th>\n",
              "      <td>0</td>\n",
              "    </tr>\n",
              "    <tr>\n",
              "      <th>Destination IP</th>\n",
              "      <td>0</td>\n",
              "    </tr>\n",
              "    <tr>\n",
              "      <th>User Agent</th>\n",
              "      <td>0</td>\n",
              "    </tr>\n",
              "    <tr>\n",
              "      <th>Attack Type</th>\n",
              "      <td>0</td>\n",
              "    </tr>\n",
              "    <tr>\n",
              "      <th>Attack Severity</th>\n",
              "      <td>0</td>\n",
              "    </tr>\n",
              "    <tr>\n",
              "      <th>Data Exfiltrated</th>\n",
              "      <td>0</td>\n",
              "    </tr>\n",
              "    <tr>\n",
              "      <th>Threat Intelligence</th>\n",
              "      <td>0</td>\n",
              "    </tr>\n",
              "    <tr>\n",
              "      <th>Response Action</th>\n",
              "      <td>0</td>\n",
              "    </tr>\n",
              "  </tbody>\n",
              "</table>\n",
              "</div><br><label><b>dtype:</b> int64</label>"
            ]
          },
          "metadata": {},
          "execution_count": 3
        }
      ]
    },
    {
      "cell_type": "code",
      "source": [
        "print(\"Dataset Shape:\", df.shape)\n",
        "print(\"Columns:\", df.columns)"
      ],
      "metadata": {
        "colab": {
          "base_uri": "https://localhost:8080/"
        },
        "id": "cmTB2FwfImxp",
        "outputId": "f7674bcc-1108-4304-b157-a557051e2d02"
      },
      "execution_count": 4,
      "outputs": [
        {
          "output_type": "stream",
          "name": "stdout",
          "text": [
            "Dataset Shape: (20000, 10)\n",
            "Columns: Index(['Event ID', 'Timestamp', 'Source IP', 'Destination IP', 'User Agent',\n",
            "       'Attack Type', 'Attack Severity', 'Data Exfiltrated',\n",
            "       'Threat Intelligence', 'Response Action'],\n",
            "      dtype='object')\n"
          ]
        }
      ]
    },
    {
      "cell_type": "code",
      "source": [],
      "metadata": {
        "id": "JlRPnk2mI4_A"
      },
      "execution_count": null,
      "outputs": []
    }
  ]
}